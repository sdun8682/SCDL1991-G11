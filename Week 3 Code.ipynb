import pandas as pd
import numpy as np
import os


file_dir = "E:\SCDL1991\High Illumination - 59 animals"  # file directory
all_csv_list = os.listdir(file_dir)  # get csv list


#print(len(all_csv_list))
#print(all_csv_list)

for i in all_csv_list:
    dirname = i
    path = 'E:\\SCDL1991\\High Illumination - 59 animals\\' + dirname
    df = pd.read_csv(path)
    # print(df)
    
    
    #filter
    no_image_ls = []
    i = 0
    while i < len(df['filename'].to_list()):
        # print(df['filename'][i])
        if df['region_attributes'][i] == '{"Types":"FLEye"}' or df['region_attributes'][i] == '{"Types":"FREye"}':
            no_image_ls.append(df['filename'][i])
        i += 1

    no_images = set(no_image_ls)
    # print(no_images)
    
    all_images = set(df['filename'].to_list())
    # all_images
    
    useful_images = all_images - no_images
    # useful_images
    
    frontal_images_num = len(useful_images)
    print(frontal_images_num)
    
    newdf = df.loc[~df.filename.isin(no_image_ls)] 
    print(newdf)
    newdf.to_csv("new_"+dirname)
