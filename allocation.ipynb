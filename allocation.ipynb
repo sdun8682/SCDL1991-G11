{
 "cells": [
  {
   "cell_type": "code",
   "execution_count": 32,
   "metadata": {},
   "outputs": [],
   "source": [
    "import os \n",
    "import random\n",
    "import shutil\n",
    "from os.path import exists\n",
    "\n",
    "pwd = os.getcwd() #present working directory \n",
    "image_list = os.listdir(pwd + \"/images\") #list of all images\n",
    "label_list = os.listdir(pwd + \"/labels\") #list of all annotations\n",
    "\n",
    "\n",
    "image_list_no_suffix = [] #empty list to contain all image names without .jpg\n",
    "for i in image_list: \n",
    "    new_name = i.removesuffix(\".jpg\")\n",
    "    image_list_no_suffix.append(new_name)\n",
    "\n",
    "\n",
    "label_list_no_suffix = [] #empty list to contain all label file names without .txt\n",
    "for i in label_list: \n",
    "    new_label = i.removesuffix(\".txt\")\n",
    "    label_list_no_suffix.append(new_label)\n",
    "\n",
    "name_list = [] #empty list to contain all image names for images that have annotations\n",
    "for i in image_list_no_suffix:\n",
    "    if i in label_list_no_suffix:\n",
    "        name_list.append(i)\n",
    "\n",
    "n = len(name_list) #total number of images that we have annotations for \n",
    "\n",
    "n_train = round(0.6*n)\n",
    "n_val = round(0.2*n)\n",
    "n_test = round(n - n_train - n_val)\n",
    "\n",
    "random.seed(123)\n",
    "train_set = random.sample(name_list, n_train)\n",
    "\n",
    "name_list_remove_train = list(set(name_list) - set(train_set))\n",
    "val_set = random.sample(name_list_remove_train, n_val)\n",
    "\n",
    "test_set = list(set(name_list_remove_train) - set(val_set))\n",
    "\n",
    "count = 0 \n",
    "for name in name_list: \n",
    "    if name in train_set and name in val_set:\n",
    "        count += 1 \n",
    "    if name in train_set and name in test_set: \n",
    "        count += 1\n",
    "    if name in test_set and name in val_set:\n",
    "        count += 1 #making sure that train, val and test sets are unique. \n",
    "\n",
    "src_path_image = pwd + \"/images\"\n",
    "src_path_label = pwd + \"/labels\"\n",
    "\n",
    "for name in name_list: \n",
    "    image_name = name + \".jpg\"\n",
    "    label_name = name + \".txt\"\n",
    "    image_exists = exists(src_path_image + \"/\" + image_name)\n",
    "    label_exists = exists(src_path_label + \"/\" + label_name)\n",
    "    if image_exists and label_exists:\n",
    "        if name in train_set:\n",
    "            shutil.move(src_path_image + \"/\" + image_name, src_path_image + \"/train\")\n",
    "            shutil.move(src_path_label + \"/\" + label_name, src_path_label + \"/train\")\n",
    "        elif name in val_set:\n",
    "            shutil.move(src_path_image + \"/\" + image_name, src_path_image + \"/val\")\n",
    "            shutil.move(src_path_label + \"/\" + label_name, src_path_label + \"/val\")\n",
    "        elif name in test_set:\n",
    "            shutil.move(src_path_image + \"/\" + image_name, src_path_image + \"/test\")\n",
    "            shutil.move(src_path_label + \"/\" + label_name, src_path_label + \"/test\")\n",
    "\n"
   ]
  }
 ],
 "metadata": {
  "kernelspec": {
   "display_name": "Python 3.9.12 ('base')",
   "language": "python",
   "name": "python3"
  },
  "language_info": {
   "codemirror_mode": {
    "name": "ipython",
    "version": 3
   },
   "file_extension": ".py",
   "mimetype": "text/x-python",
   "name": "python",
   "nbconvert_exporter": "python",
   "pygments_lexer": "ipython3",
   "version": "3.9.12"
  },
  "orig_nbformat": 4,
  "vscode": {
   "interpreter": {
    "hash": "d9a6cd7b1a62db7db9b5247dc2e321a914760d3d7ae5a873413c06740d86abb0"
   }
  }
 },
 "nbformat": 4,
 "nbformat_minor": 2
}
