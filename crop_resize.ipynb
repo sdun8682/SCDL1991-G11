{
 "cells": [
  {
   "cell_type": "code",
   "execution_count": 127,
   "metadata": {},
   "outputs": [],
   "source": [
    "import cv2\n",
    "import os\n",
    "from os.path import exists\n",
    "import csv\n",
    "import json\n",
    "\n",
    "pwd = os.getcwd()\n",
    "file_dir = \"./(Filtered) High Illumination - 59 animals\" # file directory for CSVs\n",
    "all_csv_list = os.listdir(file_dir) # get csv list\n",
    "\n",
    "\n",
    "for file_name in all_csv_list:\n",
    "    folder_name_image = file_name.removesuffix('_frontal.csv')\n",
    "    folder_name_image = folder_name_image + \".MP4\" #get name of folder containing images\n",
    "    csv_reader = csv.reader(open(file_dir + \"/\" + file_name)) #read in each csv file \n",
    "    next(csv_reader, None) #skip the header \n",
    "    for row in csv_reader: \n",
    "            file_name_image = row[1] #get file name for each image \n",
    "            image_type = row[7] #type of image - reye, leye, muzzle or forehead \n",
    "            coordinates = row[6] #location of object - x,y,height,width.\n",
    "            coordinates = json.loads(coordinates) #turn coordinates from str to dict\n",
    "            image_type = json.loads(image_type) #convert image_type from str to dict\n",
    "            image_type = image_type[\"Types\"] \n",
    "            x = coordinates[\"x\"] \n",
    "            y = coordinates[\"y\"]\n",
    "            h = coordinates[\"height\"]\n",
    "            w = coordinates[\"width\"]\n",
    "            file_exists = exists(\"./Images\" + \"/\" + folder_name_image + \"/\" + file_name_image)\n",
    "            if file_exists:\n",
    "                img = cv2.imread(\"./Images\" + \"/\" + folder_name_image + \"/\" + file_name_image) \n",
    "                cropped_image = img[y:y+h,x:x+w]\n",
    "                resized_image = cv2.resize(cropped_image, (640,640))\n",
    "                new_path = \"./cropped_images/\"\n",
    "                new_file_name = str(image_type) + \" \" + folder_name_image.removesuffix(\".MP4\") + \" \" + file_name_image\n",
    "                #cv2.imwrite(new_path + new_file_name, resized_image)"
   ]
  }
 ],
 "metadata": {
  "kernelspec": {
   "display_name": "Python 3.9.12 ('base')",
   "language": "python",
   "name": "python3"
  },
  "language_info": {
   "codemirror_mode": {
    "name": "ipython",
    "version": 3
   },
   "file_extension": ".py",
   "mimetype": "text/x-python",
   "name": "python",
   "nbconvert_exporter": "python",
   "pygments_lexer": "ipython3",
   "version": "3.9.12"
  },
  "orig_nbformat": 4,
  "vscode": {
   "interpreter": {
    "hash": "d9a6cd7b1a62db7db9b5247dc2e321a914760d3d7ae5a873413c06740d86abb0"
   }
  }
 },
 "nbformat": 4,
 "nbformat_minor": 2
}
